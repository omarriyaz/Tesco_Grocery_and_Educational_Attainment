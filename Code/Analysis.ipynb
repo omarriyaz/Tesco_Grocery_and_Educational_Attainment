{
 "cells": [
  {
   "cell_type": "markdown",
   "metadata": {},
   "source": [
    "# **How grocery purchases affect Eduational Attainment**\n",
    "\n",
    "The goal of this project is to understand how customers in London's boroughs make purchases, and how that affects educational attainment within the borough. With just under 3000 locations in the UK, Tesco is a multinational retailer of groceries and miscellaneous goods with around a 28% market share in the UK. It is an ideal source for analyzing customer buying habits because of its wide reach. We will be using The Tesco Grocery 1.0 Dataset for this project. \n",
    "\n",
    "[Link for the Tesco Grocery 1.0 Dataset](https://figshare.com/articles/dataset/Area-level_grocery_purchases/7796666?backTo=/collections/Tesco_Grocery_1_0/4769354)\n",
    "\n",
    "The Tesco Grocery 1.0 Dataset, which was collected from Tesco Clubcard customers, serves as the basis for the analysis. This dataset, which combines demographic and geographic data with transactional data from Tesco locations for 2015, gives a broad insight into grocery purchasing habits. In order to compare the patterns  in grocery consumption in different regions of London, the data for this study has been gathered at the borough level.\n",
    "\n"
   ]
  },
  {
   "cell_type": "markdown",
   "metadata": {},
   "source": [
    "## **Preprocessing**"
   ]
  },
  {
   "cell_type": "code",
   "execution_count": 180,
   "metadata": {},
   "outputs": [],
   "source": [
    "# importing necessary libraries\n",
    "import pandas as pd\n",
    "import geopandas as gpd"
   ]
  },
  {
   "cell_type": "code",
   "execution_count": 181,
   "metadata": {},
   "outputs": [
    {
     "data": {
      "text/html": [
       "<div>\n",
       "<style scoped>\n",
       "    .dataframe tbody tr th:only-of-type {\n",
       "        vertical-align: middle;\n",
       "    }\n",
       "\n",
       "    .dataframe tbody tr th {\n",
       "        vertical-align: top;\n",
       "    }\n",
       "\n",
       "    .dataframe thead th {\n",
       "        text-align: right;\n",
       "    }\n",
       "</style>\n",
       "<table border=\"1\" class=\"dataframe\">\n",
       "  <thead>\n",
       "    <tr style=\"text-align: right;\">\n",
       "      <th></th>\n",
       "      <th>area_id</th>\n",
       "      <th>weight</th>\n",
       "      <th>weight_perc2.5</th>\n",
       "      <th>weight_perc25</th>\n",
       "      <th>weight_perc50</th>\n",
       "      <th>weight_perc75</th>\n",
       "      <th>weight_perc97.5</th>\n",
       "      <th>weight_std</th>\n",
       "      <th>weight_ci95</th>\n",
       "      <th>volume</th>\n",
       "      <th>...</th>\n",
       "      <th>man_day</th>\n",
       "      <th>population</th>\n",
       "      <th>male</th>\n",
       "      <th>female</th>\n",
       "      <th>age_0_17</th>\n",
       "      <th>age_18_64</th>\n",
       "      <th>age_65+</th>\n",
       "      <th>avg_age</th>\n",
       "      <th>area_sq_km</th>\n",
       "      <th>people_per_sq_km</th>\n",
       "    </tr>\n",
       "  </thead>\n",
       "  <tbody>\n",
       "    <tr>\n",
       "      <th>0</th>\n",
       "      <td>E09000001</td>\n",
       "      <td>323.17475</td>\n",
       "      <td>35.0</td>\n",
       "      <td>150.0</td>\n",
       "      <td>250.0</td>\n",
       "      <td>400.0</td>\n",
       "      <td>1000.0</td>\n",
       "      <td>323.692596</td>\n",
       "      <td>1.00152</td>\n",
       "      <td>98.842963</td>\n",
       "      <td>...</td>\n",
       "      <td>103883</td>\n",
       "      <td>6687.0</td>\n",
       "      <td>3697.0</td>\n",
       "      <td>2990.0</td>\n",
       "      <td>1018.0</td>\n",
       "      <td>4349.0</td>\n",
       "      <td>1320.0</td>\n",
       "      <td>43.910124</td>\n",
       "      <td>2.9</td>\n",
       "      <td>2305.862069</td>\n",
       "    </tr>\n",
       "  </tbody>\n",
       "</table>\n",
       "<p>1 rows × 202 columns</p>\n",
       "</div>"
      ],
      "text/plain": [
       "     area_id     weight  weight_perc2.5  weight_perc25  weight_perc50  \\\n",
       "0  E09000001  323.17475            35.0          150.0          250.0   \n",
       "\n",
       "   weight_perc75  weight_perc97.5  weight_std  weight_ci95     volume  ...  \\\n",
       "0          400.0           1000.0  323.692596      1.00152  98.842963  ...   \n",
       "\n",
       "   man_day  population    male  female  age_0_17  age_18_64  age_65+  \\\n",
       "0   103883      6687.0  3697.0  2990.0    1018.0     4349.0   1320.0   \n",
       "\n",
       "     avg_age  area_sq_km  people_per_sq_km  \n",
       "0  43.910124         2.9       2305.862069  \n",
       "\n",
       "[1 rows x 202 columns]"
      ]
     },
     "execution_count": 181,
     "metadata": {},
     "output_type": "execute_result"
    }
   ],
   "source": [
    "# loading the Tesco Grocery 1.0 dataset\n",
    "grocery_data = pd.read_csv('/Users/s16teen/Downloads/Work/UOB/SEM2/ADS2/Tesco_Grocery_and_Educational_Attainment/Data/year_borough_grocery.csv')\n",
    "\n",
    "grocery_data.head(1)"
   ]
  },
  {
   "cell_type": "code",
   "execution_count": 182,
   "metadata": {},
   "outputs": [
    {
     "data": {
      "text/html": [
       "<div>\n",
       "<style scoped>\n",
       "    .dataframe tbody tr th:only-of-type {\n",
       "        vertical-align: middle;\n",
       "    }\n",
       "\n",
       "    .dataframe tbody tr th {\n",
       "        vertical-align: top;\n",
       "    }\n",
       "\n",
       "    .dataframe thead th {\n",
       "        text-align: right;\n",
       "    }\n",
       "</style>\n",
       "<table border=\"1\" class=\"dataframe\">\n",
       "  <thead>\n",
       "    <tr style=\"text-align: right;\">\n",
       "      <th></th>\n",
       "      <th>NAME</th>\n",
       "      <th>GSS_CODE</th>\n",
       "      <th>HECTARES</th>\n",
       "      <th>NONLD_AREA</th>\n",
       "      <th>ONS_INNER</th>\n",
       "      <th>SUB_2009</th>\n",
       "      <th>SUB_2006</th>\n",
       "      <th>geometry</th>\n",
       "    </tr>\n",
       "  </thead>\n",
       "  <tbody>\n",
       "    <tr>\n",
       "      <th>0</th>\n",
       "      <td>Kingston upon Thames</td>\n",
       "      <td>E09000021</td>\n",
       "      <td>3726.117</td>\n",
       "      <td>0.0</td>\n",
       "      <td>F</td>\n",
       "      <td>None</td>\n",
       "      <td>None</td>\n",
       "      <td>POLYGON ((516401.6 160201.8, 516407.3 160210.5...</td>\n",
       "    </tr>\n",
       "  </tbody>\n",
       "</table>\n",
       "</div>"
      ],
      "text/plain": [
       "                   NAME   GSS_CODE  HECTARES  NONLD_AREA ONS_INNER SUB_2009  \\\n",
       "0  Kingston upon Thames  E09000021  3726.117         0.0         F     None   \n",
       "\n",
       "  SUB_2006                                           geometry  \n",
       "0     None  POLYGON ((516401.6 160201.8, 516407.3 160210.5...  "
      ]
     },
     "execution_count": 182,
     "metadata": {},
     "output_type": "execute_result"
    }
   ],
   "source": [
    "# loading the 'Statistical GIS Boundary Files for London' dataset\n",
    "map_df = gpd.read_file(\"/Users/s16teen/Downloads/Work/UOB/SEM2/ADS2/Tesco_Grocery_and_Educational_Attainment/Data/Chorpleth Datasets/statistical-gis-boundaries-london/ESRI/London_Borough_Excluding_MHW.shp\")\n",
    "\n",
    "map_df.head(1)"
   ]
  },
  {
   "cell_type": "code",
   "execution_count": 183,
   "metadata": {},
   "outputs": [],
   "source": [
    "# converting the datasets to pandas dataframes\n",
    "grocery_data = pd.DataFrame(grocery_data)"
   ]
  },
  {
   "cell_type": "code",
   "execution_count": 184,
   "metadata": {},
   "outputs": [],
   "source": [
    "# adding the names of the boroughs from the 'Statistical GIS Boundary Files for London' dataset\n",
    "grocery_data = grocery_data.set_index('area_id').join(map_df.set_index('GSS_CODE')[['NAME']])\n",
    "\n",
    "grocery_data = grocery_data.reset_index()"
   ]
  },
  {
   "cell_type": "code",
   "execution_count": 185,
   "metadata": {},
   "outputs": [
    {
     "data": {
      "text/html": [
       "<div>\n",
       "<style scoped>\n",
       "    .dataframe tbody tr th:only-of-type {\n",
       "        vertical-align: middle;\n",
       "    }\n",
       "\n",
       "    .dataframe tbody tr th {\n",
       "        vertical-align: top;\n",
       "    }\n",
       "\n",
       "    .dataframe thead th {\n",
       "        text-align: right;\n",
       "    }\n",
       "</style>\n",
       "<table border=\"1\" class=\"dataframe\">\n",
       "  <thead>\n",
       "    <tr style=\"text-align: right;\">\n",
       "      <th></th>\n",
       "      <th>area_id</th>\n",
       "      <th>weight</th>\n",
       "      <th>weight_perc2.5</th>\n",
       "      <th>weight_perc25</th>\n",
       "      <th>weight_perc50</th>\n",
       "      <th>weight_perc75</th>\n",
       "      <th>weight_perc97.5</th>\n",
       "      <th>weight_std</th>\n",
       "      <th>weight_ci95</th>\n",
       "      <th>volume</th>\n",
       "      <th>...</th>\n",
       "      <th>population</th>\n",
       "      <th>male</th>\n",
       "      <th>female</th>\n",
       "      <th>age_0_17</th>\n",
       "      <th>age_18_64</th>\n",
       "      <th>age_65+</th>\n",
       "      <th>avg_age</th>\n",
       "      <th>area_sq_km</th>\n",
       "      <th>people_per_sq_km</th>\n",
       "      <th>NAME</th>\n",
       "    </tr>\n",
       "  </thead>\n",
       "  <tbody>\n",
       "    <tr>\n",
       "      <th>0</th>\n",
       "      <td>E09000001</td>\n",
       "      <td>323.174750</td>\n",
       "      <td>35.0</td>\n",
       "      <td>150.0</td>\n",
       "      <td>250.0</td>\n",
       "      <td>400.0</td>\n",
       "      <td>1000.0</td>\n",
       "      <td>323.692596</td>\n",
       "      <td>1.001520</td>\n",
       "      <td>98.842963</td>\n",
       "      <td>...</td>\n",
       "      <td>6687.0</td>\n",
       "      <td>3697.0</td>\n",
       "      <td>2990.0</td>\n",
       "      <td>1018.0</td>\n",
       "      <td>4349.0</td>\n",
       "      <td>1320.0</td>\n",
       "      <td>43.910124</td>\n",
       "      <td>2.90</td>\n",
       "      <td>2305.862069</td>\n",
       "      <td>City of London</td>\n",
       "    </tr>\n",
       "    <tr>\n",
       "      <th>1</th>\n",
       "      <td>E09000002</td>\n",
       "      <td>421.304125</td>\n",
       "      <td>32.5</td>\n",
       "      <td>165.6</td>\n",
       "      <td>300.0</td>\n",
       "      <td>500.0</td>\n",
       "      <td>1500.0</td>\n",
       "      <td>597.994271</td>\n",
       "      <td>0.828993</td>\n",
       "      <td>122.341294</td>\n",
       "      <td>...</td>\n",
       "      <td>203101.0</td>\n",
       "      <td>99442.0</td>\n",
       "      <td>103659.0</td>\n",
       "      <td>60281.0</td>\n",
       "      <td>123180.0</td>\n",
       "      <td>19640.0</td>\n",
       "      <td>33.017321</td>\n",
       "      <td>36.09</td>\n",
       "      <td>5627.625381</td>\n",
       "      <td>Barking and Dagenham</td>\n",
       "    </tr>\n",
       "    <tr>\n",
       "      <th>2</th>\n",
       "      <td>E09000003</td>\n",
       "      <td>407.170491</td>\n",
       "      <td>40.0</td>\n",
       "      <td>180.0</td>\n",
       "      <td>320.0</td>\n",
       "      <td>500.0</td>\n",
       "      <td>1160.0</td>\n",
       "      <td>443.644324</td>\n",
       "      <td>0.171615</td>\n",
       "      <td>114.933771</td>\n",
       "      <td>...</td>\n",
       "      <td>378778.0</td>\n",
       "      <td>186357.0</td>\n",
       "      <td>192421.0</td>\n",
       "      <td>88754.0</td>\n",
       "      <td>237036.0</td>\n",
       "      <td>52988.0</td>\n",
       "      <td>37.195582</td>\n",
       "      <td>86.76</td>\n",
       "      <td>4365.813739</td>\n",
       "      <td>Barnet</td>\n",
       "    </tr>\n",
       "    <tr>\n",
       "      <th>3</th>\n",
       "      <td>E09000004</td>\n",
       "      <td>359.544126</td>\n",
       "      <td>30.0</td>\n",
       "      <td>144.0</td>\n",
       "      <td>255.0</td>\n",
       "      <td>450.0</td>\n",
       "      <td>1000.0</td>\n",
       "      <td>476.576945</td>\n",
       "      <td>0.819748</td>\n",
       "      <td>106.446426</td>\n",
       "      <td>...</td>\n",
       "      <td>242387.0</td>\n",
       "      <td>116814.0</td>\n",
       "      <td>125573.0</td>\n",
       "      <td>56028.0</td>\n",
       "      <td>146237.0</td>\n",
       "      <td>40122.0</td>\n",
       "      <td>38.880749</td>\n",
       "      <td>60.58</td>\n",
       "      <td>4001.105976</td>\n",
       "      <td>Bexley</td>\n",
       "    </tr>\n",
       "    <tr>\n",
       "      <th>4</th>\n",
       "      <td>E09000005</td>\n",
       "      <td>434.324141</td>\n",
       "      <td>40.0</td>\n",
       "      <td>175.0</td>\n",
       "      <td>325.0</td>\n",
       "      <td>500.0</td>\n",
       "      <td>1500.0</td>\n",
       "      <td>616.087316</td>\n",
       "      <td>0.354492</td>\n",
       "      <td>128.930369</td>\n",
       "      <td>...</td>\n",
       "      <td>323443.0</td>\n",
       "      <td>163939.0</td>\n",
       "      <td>159504.0</td>\n",
       "      <td>75033.0</td>\n",
       "      <td>211885.0</td>\n",
       "      <td>36525.0</td>\n",
       "      <td>35.766416</td>\n",
       "      <td>43.28</td>\n",
       "      <td>7473.267098</td>\n",
       "      <td>Brent</td>\n",
       "    </tr>\n",
       "  </tbody>\n",
       "</table>\n",
       "<p>5 rows × 203 columns</p>\n",
       "</div>"
      ],
      "text/plain": [
       "     area_id      weight  weight_perc2.5  weight_perc25  weight_perc50  \\\n",
       "0  E09000001  323.174750            35.0          150.0          250.0   \n",
       "1  E09000002  421.304125            32.5          165.6          300.0   \n",
       "2  E09000003  407.170491            40.0          180.0          320.0   \n",
       "3  E09000004  359.544126            30.0          144.0          255.0   \n",
       "4  E09000005  434.324141            40.0          175.0          325.0   \n",
       "\n",
       "   weight_perc75  weight_perc97.5  weight_std  weight_ci95      volume  ...  \\\n",
       "0          400.0           1000.0  323.692596     1.001520   98.842963  ...   \n",
       "1          500.0           1500.0  597.994271     0.828993  122.341294  ...   \n",
       "2          500.0           1160.0  443.644324     0.171615  114.933771  ...   \n",
       "3          450.0           1000.0  476.576945     0.819748  106.446426  ...   \n",
       "4          500.0           1500.0  616.087316     0.354492  128.930369  ...   \n",
       "\n",
       "   population      male    female  age_0_17  age_18_64  age_65+    avg_age  \\\n",
       "0      6687.0    3697.0    2990.0    1018.0     4349.0   1320.0  43.910124   \n",
       "1    203101.0   99442.0  103659.0   60281.0   123180.0  19640.0  33.017321   \n",
       "2    378778.0  186357.0  192421.0   88754.0   237036.0  52988.0  37.195582   \n",
       "3    242387.0  116814.0  125573.0   56028.0   146237.0  40122.0  38.880749   \n",
       "4    323443.0  163939.0  159504.0   75033.0   211885.0  36525.0  35.766416   \n",
       "\n",
       "   area_sq_km  people_per_sq_km                  NAME  \n",
       "0        2.90       2305.862069        City of London  \n",
       "1       36.09       5627.625381  Barking and Dagenham  \n",
       "2       86.76       4365.813739                Barnet  \n",
       "3       60.58       4001.105976                Bexley  \n",
       "4       43.28       7473.267098                 Brent  \n",
       "\n",
       "[5 rows x 203 columns]"
      ]
     },
     "execution_count": 185,
     "metadata": {},
     "output_type": "execute_result"
    }
   ],
   "source": [
    "# displaying the first 5 rows of the dataset\n",
    "grocery_data.head()"
   ]
  },
  {
   "cell_type": "markdown",
   "metadata": {},
   "source": [
    "## **Task 1: Describe the Dataset**\n",
    "\n",
    "In this task you need to describe the dataset. It contains many fields. A good description will find ways\n",
    "to group fields together to summarise the content rather than simply list all the fields. You need to\n",
    "explain the value of the data rather than only provide basic description. You should also address any\n",
    "assumptions or limitations that need to be considered which may affect how the data can or should be used."
   ]
  },
  {
   "cell_type": "markdown",
   "metadata": {},
   "source": [
    "### **Basic Summary of the Tesco Dataset**"
   ]
  },
  {
   "cell_type": "code",
   "execution_count": 186,
   "metadata": {},
   "outputs": [
    {
     "data": {
      "text/plain": [
       "(33, 203)"
      ]
     },
     "execution_count": 186,
     "metadata": {},
     "output_type": "execute_result"
    }
   ],
   "source": [
    "# finding the shape of the dataset\n",
    "grocery_data.shape"
   ]
  },
  {
   "cell_type": "code",
   "execution_count": 187,
   "metadata": {},
   "outputs": [
    {
     "data": {
      "text/plain": [
       "0"
      ]
     },
     "execution_count": 187,
     "metadata": {},
     "output_type": "execute_result"
    }
   ],
   "source": [
    "# finding if there are any missing values in the dataset\n",
    "grocery_data.isnull().sum().sum()"
   ]
  },
  {
   "cell_type": "code",
   "execution_count": 188,
   "metadata": {},
   "outputs": [
    {
     "data": {
      "text/html": [
       "<div>\n",
       "<style scoped>\n",
       "    .dataframe tbody tr th:only-of-type {\n",
       "        vertical-align: middle;\n",
       "    }\n",
       "\n",
       "    .dataframe tbody tr th {\n",
       "        vertical-align: top;\n",
       "    }\n",
       "\n",
       "    .dataframe thead th {\n",
       "        text-align: right;\n",
       "    }\n",
       "</style>\n",
       "<table border=\"1\" class=\"dataframe\">\n",
       "  <thead>\n",
       "    <tr style=\"text-align: right;\">\n",
       "      <th></th>\n",
       "      <th>area_id</th>\n",
       "      <th>weight</th>\n",
       "      <th>weight_perc2.5</th>\n",
       "      <th>weight_perc25</th>\n",
       "      <th>weight_perc50</th>\n",
       "      <th>weight_perc75</th>\n",
       "      <th>weight_perc97.5</th>\n",
       "      <th>weight_std</th>\n",
       "      <th>weight_ci95</th>\n",
       "      <th>volume</th>\n",
       "      <th>...</th>\n",
       "      <th>population</th>\n",
       "      <th>male</th>\n",
       "      <th>female</th>\n",
       "      <th>age_0_17</th>\n",
       "      <th>age_18_64</th>\n",
       "      <th>age_65+</th>\n",
       "      <th>avg_age</th>\n",
       "      <th>area_sq_km</th>\n",
       "      <th>people_per_sq_km</th>\n",
       "      <th>NAME</th>\n",
       "    </tr>\n",
       "  </thead>\n",
       "  <tbody>\n",
       "    <tr>\n",
       "      <th>0</th>\n",
       "      <td>E09000001</td>\n",
       "      <td>323.174750</td>\n",
       "      <td>35.0</td>\n",
       "      <td>150.0</td>\n",
       "      <td>250.0</td>\n",
       "      <td>400.0</td>\n",
       "      <td>1000.0</td>\n",
       "      <td>323.692596</td>\n",
       "      <td>1.001520</td>\n",
       "      <td>98.842963</td>\n",
       "      <td>...</td>\n",
       "      <td>6687.0</td>\n",
       "      <td>3697.0</td>\n",
       "      <td>2990.0</td>\n",
       "      <td>1018.0</td>\n",
       "      <td>4349.0</td>\n",
       "      <td>1320.0</td>\n",
       "      <td>43.910124</td>\n",
       "      <td>2.90</td>\n",
       "      <td>2305.862069</td>\n",
       "      <td>City of London</td>\n",
       "    </tr>\n",
       "    <tr>\n",
       "      <th>1</th>\n",
       "      <td>E09000002</td>\n",
       "      <td>421.304125</td>\n",
       "      <td>32.5</td>\n",
       "      <td>165.6</td>\n",
       "      <td>300.0</td>\n",
       "      <td>500.0</td>\n",
       "      <td>1500.0</td>\n",
       "      <td>597.994271</td>\n",
       "      <td>0.828993</td>\n",
       "      <td>122.341294</td>\n",
       "      <td>...</td>\n",
       "      <td>203101.0</td>\n",
       "      <td>99442.0</td>\n",
       "      <td>103659.0</td>\n",
       "      <td>60281.0</td>\n",
       "      <td>123180.0</td>\n",
       "      <td>19640.0</td>\n",
       "      <td>33.017321</td>\n",
       "      <td>36.09</td>\n",
       "      <td>5627.625381</td>\n",
       "      <td>Barking and Dagenham</td>\n",
       "    </tr>\n",
       "    <tr>\n",
       "      <th>2</th>\n",
       "      <td>E09000003</td>\n",
       "      <td>407.170491</td>\n",
       "      <td>40.0</td>\n",
       "      <td>180.0</td>\n",
       "      <td>320.0</td>\n",
       "      <td>500.0</td>\n",
       "      <td>1160.0</td>\n",
       "      <td>443.644324</td>\n",
       "      <td>0.171615</td>\n",
       "      <td>114.933771</td>\n",
       "      <td>...</td>\n",
       "      <td>378778.0</td>\n",
       "      <td>186357.0</td>\n",
       "      <td>192421.0</td>\n",
       "      <td>88754.0</td>\n",
       "      <td>237036.0</td>\n",
       "      <td>52988.0</td>\n",
       "      <td>37.195582</td>\n",
       "      <td>86.76</td>\n",
       "      <td>4365.813739</td>\n",
       "      <td>Barnet</td>\n",
       "    </tr>\n",
       "    <tr>\n",
       "      <th>3</th>\n",
       "      <td>E09000004</td>\n",
       "      <td>359.544126</td>\n",
       "      <td>30.0</td>\n",
       "      <td>144.0</td>\n",
       "      <td>255.0</td>\n",
       "      <td>450.0</td>\n",
       "      <td>1000.0</td>\n",
       "      <td>476.576945</td>\n",
       "      <td>0.819748</td>\n",
       "      <td>106.446426</td>\n",
       "      <td>...</td>\n",
       "      <td>242387.0</td>\n",
       "      <td>116814.0</td>\n",
       "      <td>125573.0</td>\n",
       "      <td>56028.0</td>\n",
       "      <td>146237.0</td>\n",
       "      <td>40122.0</td>\n",
       "      <td>38.880749</td>\n",
       "      <td>60.58</td>\n",
       "      <td>4001.105976</td>\n",
       "      <td>Bexley</td>\n",
       "    </tr>\n",
       "    <tr>\n",
       "      <th>4</th>\n",
       "      <td>E09000005</td>\n",
       "      <td>434.324141</td>\n",
       "      <td>40.0</td>\n",
       "      <td>175.0</td>\n",
       "      <td>325.0</td>\n",
       "      <td>500.0</td>\n",
       "      <td>1500.0</td>\n",
       "      <td>616.087316</td>\n",
       "      <td>0.354492</td>\n",
       "      <td>128.930369</td>\n",
       "      <td>...</td>\n",
       "      <td>323443.0</td>\n",
       "      <td>163939.0</td>\n",
       "      <td>159504.0</td>\n",
       "      <td>75033.0</td>\n",
       "      <td>211885.0</td>\n",
       "      <td>36525.0</td>\n",
       "      <td>35.766416</td>\n",
       "      <td>43.28</td>\n",
       "      <td>7473.267098</td>\n",
       "      <td>Brent</td>\n",
       "    </tr>\n",
       "  </tbody>\n",
       "</table>\n",
       "<p>5 rows × 203 columns</p>\n",
       "</div>"
      ],
      "text/plain": [
       "     area_id      weight  weight_perc2.5  weight_perc25  weight_perc50  \\\n",
       "0  E09000001  323.174750            35.0          150.0          250.0   \n",
       "1  E09000002  421.304125            32.5          165.6          300.0   \n",
       "2  E09000003  407.170491            40.0          180.0          320.0   \n",
       "3  E09000004  359.544126            30.0          144.0          255.0   \n",
       "4  E09000005  434.324141            40.0          175.0          325.0   \n",
       "\n",
       "   weight_perc75  weight_perc97.5  weight_std  weight_ci95      volume  ...  \\\n",
       "0          400.0           1000.0  323.692596     1.001520   98.842963  ...   \n",
       "1          500.0           1500.0  597.994271     0.828993  122.341294  ...   \n",
       "2          500.0           1160.0  443.644324     0.171615  114.933771  ...   \n",
       "3          450.0           1000.0  476.576945     0.819748  106.446426  ...   \n",
       "4          500.0           1500.0  616.087316     0.354492  128.930369  ...   \n",
       "\n",
       "   population      male    female  age_0_17  age_18_64  age_65+    avg_age  \\\n",
       "0      6687.0    3697.0    2990.0    1018.0     4349.0   1320.0  43.910124   \n",
       "1    203101.0   99442.0  103659.0   60281.0   123180.0  19640.0  33.017321   \n",
       "2    378778.0  186357.0  192421.0   88754.0   237036.0  52988.0  37.195582   \n",
       "3    242387.0  116814.0  125573.0   56028.0   146237.0  40122.0  38.880749   \n",
       "4    323443.0  163939.0  159504.0   75033.0   211885.0  36525.0  35.766416   \n",
       "\n",
       "   area_sq_km  people_per_sq_km                  NAME  \n",
       "0        2.90       2305.862069        City of London  \n",
       "1       36.09       5627.625381  Barking and Dagenham  \n",
       "2       86.76       4365.813739                Barnet  \n",
       "3       60.58       4001.105976                Bexley  \n",
       "4       43.28       7473.267098                 Brent  \n",
       "\n",
       "[5 rows x 203 columns]"
      ]
     },
     "execution_count": 188,
     "metadata": {},
     "output_type": "execute_result"
    }
   ],
   "source": [
    "# displaying the first few rows of the dataset\n",
    "grocery_data.head()"
   ]
  },
  {
   "cell_type": "code",
   "execution_count": 189,
   "metadata": {},
   "outputs": [
    {
     "data": {
      "text/html": [
       "<div>\n",
       "<style scoped>\n",
       "    .dataframe tbody tr th:only-of-type {\n",
       "        vertical-align: middle;\n",
       "    }\n",
       "\n",
       "    .dataframe tbody tr th {\n",
       "        vertical-align: top;\n",
       "    }\n",
       "\n",
       "    .dataframe thead th {\n",
       "        text-align: right;\n",
       "    }\n",
       "</style>\n",
       "<table border=\"1\" class=\"dataframe\">\n",
       "  <thead>\n",
       "    <tr style=\"text-align: right;\">\n",
       "      <th></th>\n",
       "      <th>weight</th>\n",
       "      <th>weight_perc2.5</th>\n",
       "      <th>weight_perc25</th>\n",
       "      <th>weight_perc50</th>\n",
       "      <th>weight_perc75</th>\n",
       "      <th>weight_perc97.5</th>\n",
       "      <th>weight_std</th>\n",
       "      <th>weight_ci95</th>\n",
       "      <th>volume</th>\n",
       "      <th>volume_perc2.5</th>\n",
       "      <th>...</th>\n",
       "      <th>man_day</th>\n",
       "      <th>population</th>\n",
       "      <th>male</th>\n",
       "      <th>female</th>\n",
       "      <th>age_0_17</th>\n",
       "      <th>age_18_64</th>\n",
       "      <th>age_65+</th>\n",
       "      <th>avg_age</th>\n",
       "      <th>area_sq_km</th>\n",
       "      <th>people_per_sq_km</th>\n",
       "    </tr>\n",
       "  </thead>\n",
       "  <tbody>\n",
       "    <tr>\n",
       "      <th>count</th>\n",
       "      <td>33.000000</td>\n",
       "      <td>33.000000</td>\n",
       "      <td>33.000000</td>\n",
       "      <td>33.000000</td>\n",
       "      <td>33.000000</td>\n",
       "      <td>33.000000</td>\n",
       "      <td>33.000000</td>\n",
       "      <td>33.000000</td>\n",
       "      <td>33.000000</td>\n",
       "      <td>33.000000</td>\n",
       "      <td>...</td>\n",
       "      <td>3.300000e+01</td>\n",
       "      <td>33.000000</td>\n",
       "      <td>33.000000</td>\n",
       "      <td>33.000000</td>\n",
       "      <td>33.000000</td>\n",
       "      <td>33.000000</td>\n",
       "      <td>33.000000</td>\n",
       "      <td>33.000000</td>\n",
       "      <td>33.000000</td>\n",
       "      <td>33.000000</td>\n",
       "    </tr>\n",
       "    <tr>\n",
       "      <th>mean</th>\n",
       "      <td>373.898533</td>\n",
       "      <td>35.954545</td>\n",
       "      <td>159.969697</td>\n",
       "      <td>284.581818</td>\n",
       "      <td>469.212121</td>\n",
       "      <td>1113.939394</td>\n",
       "      <td>434.344901</td>\n",
       "      <td>0.422137</td>\n",
       "      <td>109.808642</td>\n",
       "      <td>11.848485</td>\n",
       "      <td>...</td>\n",
       "      <td>1.641727e+06</td>\n",
       "      <td>262634.242424</td>\n",
       "      <td>130472.909091</td>\n",
       "      <td>132161.333333</td>\n",
       "      <td>59143.484848</td>\n",
       "      <td>173158.060606</td>\n",
       "      <td>30332.696970</td>\n",
       "      <td>36.253457</td>\n",
       "      <td>47.650909</td>\n",
       "      <td>7286.526000</td>\n",
       "    </tr>\n",
       "    <tr>\n",
       "      <th>std</th>\n",
       "      <td>40.721303</td>\n",
       "      <td>4.051164</td>\n",
       "      <td>16.896088</td>\n",
       "      <td>32.326396</td>\n",
       "      <td>39.005414</td>\n",
       "      <td>175.605015</td>\n",
       "      <td>96.926163</td>\n",
       "      <td>0.241992</td>\n",
       "      <td>10.405026</td>\n",
       "      <td>1.598851</td>\n",
       "      <td>...</td>\n",
       "      <td>1.139058e+06</td>\n",
       "      <td>73791.635356</td>\n",
       "      <td>36906.723911</td>\n",
       "      <td>37158.195707</td>\n",
       "      <td>19011.948712</td>\n",
       "      <td>49417.623844</td>\n",
       "      <td>11368.467277</td>\n",
       "      <td>2.498356</td>\n",
       "      <td>32.714349</td>\n",
       "      <td>3887.905684</td>\n",
       "    </tr>\n",
       "    <tr>\n",
       "      <th>min</th>\n",
       "      <td>295.330271</td>\n",
       "      <td>28.000000</td>\n",
       "      <td>120.000000</td>\n",
       "      <td>215.000000</td>\n",
       "      <td>400.000000</td>\n",
       "      <td>1000.000000</td>\n",
       "      <td>300.762891</td>\n",
       "      <td>0.171615</td>\n",
       "      <td>95.006632</td>\n",
       "      <td>10.100000</td>\n",
       "      <td>...</td>\n",
       "      <td>1.038830e+05</td>\n",
       "      <td>6687.000000</td>\n",
       "      <td>3697.000000</td>\n",
       "      <td>2990.000000</td>\n",
       "      <td>1018.000000</td>\n",
       "      <td>4349.000000</td>\n",
       "      <td>1320.000000</td>\n",
       "      <td>31.514726</td>\n",
       "      <td>2.900000</td>\n",
       "      <td>2166.664447</td>\n",
       "    </tr>\n",
       "    <tr>\n",
       "      <th>25%</th>\n",
       "      <td>348.420414</td>\n",
       "      <td>32.500000</td>\n",
       "      <td>150.000000</td>\n",
       "      <td>250.000000</td>\n",
       "      <td>450.000000</td>\n",
       "      <td>1000.000000</td>\n",
       "      <td>359.841786</td>\n",
       "      <td>0.271506</td>\n",
       "      <td>102.882176</td>\n",
       "      <td>11.000000</td>\n",
       "      <td>...</td>\n",
       "      <td>7.342320e+05</td>\n",
       "      <td>227507.000000</td>\n",
       "      <td>113683.000000</td>\n",
       "      <td>113824.000000</td>\n",
       "      <td>46242.000000</td>\n",
       "      <td>146237.000000</td>\n",
       "      <td>23417.000000</td>\n",
       "      <td>34.858641</td>\n",
       "      <td>26.820000</td>\n",
       "      <td>4390.319972</td>\n",
       "    </tr>\n",
       "    <tr>\n",
       "      <th>50%</th>\n",
       "      <td>374.737951</td>\n",
       "      <td>37.000000</td>\n",
       "      <td>165.000000</td>\n",
       "      <td>300.000000</td>\n",
       "      <td>500.000000</td>\n",
       "      <td>1000.000000</td>\n",
       "      <td>425.267620</td>\n",
       "      <td>0.323224</td>\n",
       "      <td>106.446426</td>\n",
       "      <td>11.000000</td>\n",
       "      <td>...</td>\n",
       "      <td>1.485336e+06</td>\n",
       "      <td>268626.000000</td>\n",
       "      <td>134797.000000</td>\n",
       "      <td>135020.000000</td>\n",
       "      <td>61120.000000</td>\n",
       "      <td>179854.000000</td>\n",
       "      <td>28265.000000</td>\n",
       "      <td>35.934276</td>\n",
       "      <td>37.640000</td>\n",
       "      <td>5793.247521</td>\n",
       "    </tr>\n",
       "    <tr>\n",
       "      <th>75%</th>\n",
       "      <td>405.993196</td>\n",
       "      <td>40.000000</td>\n",
       "      <td>175.000000</td>\n",
       "      <td>305.000000</td>\n",
       "      <td>500.000000</td>\n",
       "      <td>1160.000000</td>\n",
       "      <td>486.498044</td>\n",
       "      <td>0.487412</td>\n",
       "      <td>114.933771</td>\n",
       "      <td>12.500000</td>\n",
       "      <td>...</td>\n",
       "      <td>2.612931e+06</td>\n",
       "      <td>319477.000000</td>\n",
       "      <td>154118.000000</td>\n",
       "      <td>159504.000000</td>\n",
       "      <td>70644.000000</td>\n",
       "      <td>211354.000000</td>\n",
       "      <td>36907.000000</td>\n",
       "      <td>37.195582</td>\n",
       "      <td>56.380000</td>\n",
       "      <td>10687.248787</td>\n",
       "    </tr>\n",
       "    <tr>\n",
       "      <th>max</th>\n",
       "      <td>450.349903</td>\n",
       "      <td>40.000000</td>\n",
       "      <td>180.000000</td>\n",
       "      <td>325.000000</td>\n",
       "      <td>500.000000</td>\n",
       "      <td>1500.000000</td>\n",
       "      <td>718.157462</td>\n",
       "      <td>1.001520</td>\n",
       "      <td>136.703561</td>\n",
       "      <td>15.000000</td>\n",
       "      <td>...</td>\n",
       "      <td>4.131210e+06</td>\n",
       "      <td>380070.000000</td>\n",
       "      <td>186357.000000</td>\n",
       "      <td>195765.000000</td>\n",
       "      <td>93166.000000</td>\n",
       "      <td>237511.000000</td>\n",
       "      <td>56804.000000</td>\n",
       "      <td>43.910124</td>\n",
       "      <td>150.140000</td>\n",
       "      <td>15268.926174</td>\n",
       "    </tr>\n",
       "  </tbody>\n",
       "</table>\n",
       "<p>8 rows × 201 columns</p>\n",
       "</div>"
      ],
      "text/plain": [
       "           weight  weight_perc2.5  weight_perc25  weight_perc50  \\\n",
       "count   33.000000       33.000000      33.000000      33.000000   \n",
       "mean   373.898533       35.954545     159.969697     284.581818   \n",
       "std     40.721303        4.051164      16.896088      32.326396   \n",
       "min    295.330271       28.000000     120.000000     215.000000   \n",
       "25%    348.420414       32.500000     150.000000     250.000000   \n",
       "50%    374.737951       37.000000     165.000000     300.000000   \n",
       "75%    405.993196       40.000000     175.000000     305.000000   \n",
       "max    450.349903       40.000000     180.000000     325.000000   \n",
       "\n",
       "       weight_perc75  weight_perc97.5  weight_std  weight_ci95      volume  \\\n",
       "count      33.000000        33.000000   33.000000    33.000000   33.000000   \n",
       "mean      469.212121      1113.939394  434.344901     0.422137  109.808642   \n",
       "std        39.005414       175.605015   96.926163     0.241992   10.405026   \n",
       "min       400.000000      1000.000000  300.762891     0.171615   95.006632   \n",
       "25%       450.000000      1000.000000  359.841786     0.271506  102.882176   \n",
       "50%       500.000000      1000.000000  425.267620     0.323224  106.446426   \n",
       "75%       500.000000      1160.000000  486.498044     0.487412  114.933771   \n",
       "max       500.000000      1500.000000  718.157462     1.001520  136.703561   \n",
       "\n",
       "       volume_perc2.5  ...       man_day     population           male  \\\n",
       "count       33.000000  ...  3.300000e+01      33.000000      33.000000   \n",
       "mean        11.848485  ...  1.641727e+06  262634.242424  130472.909091   \n",
       "std          1.598851  ...  1.139058e+06   73791.635356   36906.723911   \n",
       "min         10.100000  ...  1.038830e+05    6687.000000    3697.000000   \n",
       "25%         11.000000  ...  7.342320e+05  227507.000000  113683.000000   \n",
       "50%         11.000000  ...  1.485336e+06  268626.000000  134797.000000   \n",
       "75%         12.500000  ...  2.612931e+06  319477.000000  154118.000000   \n",
       "max         15.000000  ...  4.131210e+06  380070.000000  186357.000000   \n",
       "\n",
       "              female      age_0_17      age_18_64       age_65+    avg_age  \\\n",
       "count      33.000000     33.000000      33.000000     33.000000  33.000000   \n",
       "mean   132161.333333  59143.484848  173158.060606  30332.696970  36.253457   \n",
       "std     37158.195707  19011.948712   49417.623844  11368.467277   2.498356   \n",
       "min      2990.000000   1018.000000    4349.000000   1320.000000  31.514726   \n",
       "25%    113824.000000  46242.000000  146237.000000  23417.000000  34.858641   \n",
       "50%    135020.000000  61120.000000  179854.000000  28265.000000  35.934276   \n",
       "75%    159504.000000  70644.000000  211354.000000  36907.000000  37.195582   \n",
       "max    195765.000000  93166.000000  237511.000000  56804.000000  43.910124   \n",
       "\n",
       "       area_sq_km  people_per_sq_km  \n",
       "count   33.000000         33.000000  \n",
       "mean    47.650909       7286.526000  \n",
       "std     32.714349       3887.905684  \n",
       "min      2.900000       2166.664447  \n",
       "25%     26.820000       4390.319972  \n",
       "50%     37.640000       5793.247521  \n",
       "75%     56.380000      10687.248787  \n",
       "max    150.140000      15268.926174  \n",
       "\n",
       "[8 rows x 201 columns]"
      ]
     },
     "execution_count": 189,
     "metadata": {},
     "output_type": "execute_result"
    }
   ],
   "source": [
    "# Basic statistics of the dataset\n",
    "grocery_data.describe()"
   ]
  },
  {
   "cell_type": "markdown",
   "metadata": {},
   "source": [
    "<mark>**Key Highlights from the dataset**</mark>\n",
    "\n",
    "- The dataset contains information about each Borough. (We know theres 33 Boroughs and there are 33 rows in the datset)\n",
    "- There are 202 columns, which will be grouped up and summarized to simplify the task.\n",
    "- There are no missing values in the dataset.\n",
    "- The dataset is thorough and includes summary statistics of each variable like the percentile of each variable, the standard deviation and the 95% confidence intervals.\n",
    "- The average product weight is 374g.\n",
    "- The average product volume is 110mL.\n",
    "- Boroughs vary in population from 6,687 to 380,070.\n",
    "- The population density ranges from 2,166 to 15,269 people/km²."
   ]
  },
  {
   "cell_type": "markdown",
   "metadata": {},
   "source": [
    "<mark>**We can group up the columns and summarize each group**</mark>\n",
    "\n",
    "*The main groups of focus are:*\n",
    "- Nutrients \n",
    "- Product Charateristics\n",
    "- Product Categories\n",
    "- Purchase Behaviours\n",
    "- Demographic Information\n",
    "- Geographic Information"
   ]
  },
  {
   "cell_type": "markdown",
   "metadata": {},
   "source": [
    "### **Nutrient information**"
   ]
  },
  {
   "cell_type": "markdown",
   "metadata": {},
   "source": [
    "The dataset contains columns for the weight, amount of energy and entropy of each nutrient in the average product.\n",
    "\n",
    "These nutrients are:\n",
    "- Carbs: Total carbohydrates. (includes sugars)\n",
    "- Sugar: Natural and added sugars.\n",
    "- Fats: Total fat content. (includes saturated fat)\n",
    "- Saturated Fats: Total saturated fat content\n",
    "- Protein: Amount of protein.\n",
    "- Fibre: Total fiber content.\n",
    "- Salt: Total Salt content.\n",
    "- Alcohol: Total alcohol content\n",
    "\n",
    "These columns provides insight into the composition of food products purchased in different boroughs. This can help measure nutritional quality in different boroughs and the potential health implications."
   ]
  },
  {
   "cell_type": "markdown",
   "metadata": {},
   "source": [
    "***Lets try to find some insights for the Nutrients***"
   ]
  },
  {
   "cell_type": "code",
   "execution_count": 190,
   "metadata": {},
   "outputs": [
    {
     "data": {
      "text/plain": [
       "carb        17.967103\n",
       "sugar       10.018118\n",
       "fat          8.964480\n",
       "saturate     3.527514\n",
       "protein      5.299996\n",
       "fibre        1.618842\n",
       "salt         0.580529\n",
       "alcohol      0.242141\n",
       "dtype: float64"
      ]
     },
     "execution_count": 190,
     "metadata": {},
     "output_type": "execute_result"
    }
   ],
   "source": [
    "# finding the average of the nutrients columns\n",
    "nutrients_cols = ['carb', 'sugar', 'fat', 'saturate', 'protein', 'fibre', 'salt', 'alcohol']\n",
    "nutrient_avg = grocery_data[nutrients_cols].mean()\n",
    "\n",
    "nutrient_avg"
   ]
  },
  {
   "cell_type": "code",
   "execution_count": 191,
   "metadata": {},
   "outputs": [
    {
     "name": "stdout",
     "output_type": "stream",
     "text": [
      "Highest Protein Consumption:  Southwark\n",
      "Lowest Protein Consumption:  Newham\n"
     ]
    }
   ],
   "source": [
    "# finding which borough has the highest and lowest average protein content\n",
    "print(\"Highest Protein Consumption: \", grocery_data[grocery_data['protein'] == grocery_data['protein'].max()]['NAME'].values[0])\n",
    "print(\"Lowest Protein Consumption: \", grocery_data[grocery_data['protein'] == grocery_data['protein'].min()]['NAME'].values[0])"
   ]
  },
  {
   "cell_type": "code",
   "execution_count": 192,
   "metadata": {},
   "outputs": [
    {
     "name": "stdout",
     "output_type": "stream",
     "text": [
      "Highest Sugar Consumption:  Sutton\n",
      "Lowest Sugar Consumption:  Kensington and Chelsea\n"
     ]
    }
   ],
   "source": [
    "# finding which borough has the highest and lowest average sugar content\n",
    "print(\"Highest Sugar Consumption: \", grocery_data[grocery_data['sugar'] == grocery_data['sugar'].max()]['NAME'].values[0])\n",
    "print(\"Lowest Sugar Consumption: \", grocery_data[grocery_data['sugar'] == grocery_data['sugar'].min()]['NAME'].values[0])"
   ]
  },
  {
   "cell_type": "markdown",
   "metadata": {},
   "source": [
    "### **Product Charateristics**"
   ]
  },
  {
   "cell_type": "markdown",
   "metadata": {},
   "source": [
    "The dataset has columns for the weight, volume, amount of calories and concentration of calories in the average product, measured in kcals and kcals/gram respectively. This information can be useful to find boroughs with high-energy and low-energy diets."
   ]
  },
  {
   "cell_type": "markdown",
   "metadata": {},
   "source": [
    "***Lets try to find some insights for the Energy***"
   ]
  },
  {
   "cell_type": "code",
   "execution_count": 193,
   "metadata": {},
   "outputs": [
    {
     "name": "stdout",
     "output_type": "stream",
     "text": [
      "Highest Calorie Consumption:  Havering\n",
      "Lowest Calorie Consumption:  City of London\n"
     ]
    }
   ],
   "source": [
    "# finding which borough has the highest and lowest calorie values\n",
    "print(\"Highest Calorie Consumption: \", grocery_data[grocery_data['energy_tot'] == grocery_data['energy_tot'].max()]['NAME'].values[0])\n",
    "print(\"Lowest Calorie Consumption: \", grocery_data[grocery_data['energy_tot'] == grocery_data['energy_tot'].min()]['NAME'].values[0])"
   ]
  },
  {
   "cell_type": "code",
   "execution_count": 194,
   "metadata": {},
   "outputs": [
    {
     "name": "stdout",
     "output_type": "stream",
     "text": [
      "Highest Weight Consumption:  Newham\n",
      "Lowest Weight Consumption:  Sutton\n"
     ]
    }
   ],
   "source": [
    "# finding which borough has the highest and lowest weight values\n",
    "print(\"Highest Weight Consumption: \", grocery_data[grocery_data['weight'] == grocery_data['weight'].max()]['NAME'].values[0])\n",
    "print(\"Lowest Weight Consumption: \", grocery_data[grocery_data['weight'] == grocery_data['weight'].min()]['NAME'].values[0])"
   ]
  },
  {
   "cell_type": "code",
   "execution_count": 195,
   "metadata": {},
   "outputs": [
    {
     "name": "stdout",
     "output_type": "stream",
     "text": [
      "Highest Volume Consumption:  Newham\n",
      "Lowest Volume Consumption:  Kingston upon Thames\n"
     ]
    }
   ],
   "source": [
    "# finding which borough has the highest and lowest volume values\n",
    "print(\"Highest Volume Consumption: \", grocery_data[grocery_data['volume'] == grocery_data['volume'].max()]['NAME'].values[0])\n",
    "print(\"Lowest Volume Consumption: \", grocery_data[grocery_data['volume'] == grocery_data['volume'].min()]['NAME'].values[0])"
   ]
  },
  {
   "cell_type": "markdown",
   "metadata": {},
   "source": [
    "<mark>**We can see from this that the weight and volume of the average product being higher doesn't necessarily correlate to more calories in the average product.**</mark>"
   ]
  },
  {
   "cell_type": "markdown",
   "metadata": {},
   "source": [
    "### **Product Categories**"
   ]
  },
  {
   "cell_type": "markdown",
   "metadata": {},
   "source": [
    "The dataset records the proportion of different food and beverage types consumed.\n",
    "\n",
    "The different categories are:\n",
    "- Beer\n",
    "- Dairy\n",
    "- Eggs\n",
    "- Fats and Oils\n",
    "- Fish\n",
    "- Fruits and Vegetables\n",
    "- Grains\n",
    "- Red Meat\n",
    "- Poultry\n",
    "- Readymade Foods\n",
    "- Sauces\n",
    "- Soft Drinks\n",
    "- Spirits\n",
    "- Sweets\n",
    "- Tea and Coffee\n",
    "- Water\n",
    "- Wine\n",
    "\n",
    "These categories are important as we can see which boroughs buy alot of products that are either 'junk food' or 'healthy food', and this can help us find healthy boroughs."
   ]
  },
  {
   "cell_type": "markdown",
   "metadata": {},
   "source": [
    "***Lets try to find some insights for the Product Categories***"
   ]
  },
  {
   "cell_type": "code",
   "execution_count": 196,
   "metadata": {},
   "outputs": [
    {
     "name": "stdout",
     "output_type": "stream",
     "text": [
      "Borough with most junk food consumption:  Sutton\n",
      "Borough with least junk food consumption:  Kensington and Chelsea\n"
     ]
    }
   ],
   "source": [
    "# finding boroughs with most and least junk food consumption\n",
    "junk_food_cols = ['f_beer', 'f_soft_drinks', 'f_spirits', 'f_sweets', 'f_wine']\n",
    "grocery_data['junk_food'] = grocery_data[junk_food_cols].sum(axis=1)\n",
    "\n",
    "print(\"Borough with most junk food consumption: \", grocery_data[grocery_data['junk_food'] == grocery_data['junk_food'].max()]['NAME'].values[0])\n",
    "print(\"Borough with least junk food consumption: \", grocery_data[grocery_data['junk_food'] == grocery_data['junk_food'].min()]['NAME'].values[0])"
   ]
  },
  {
   "cell_type": "code",
   "execution_count": 197,
   "metadata": {},
   "outputs": [
    {
     "name": "stdout",
     "output_type": "stream",
     "text": [
      "Borough with most healthy food consumption:  Kensington and Chelsea\n",
      "Borough with least healthy food consumption:  Sutton\n"
     ]
    }
   ],
   "source": [
    "# finding boroughs with most and least healthy food consumption\n",
    "healthy_food_cols = ['f_eggs', 'f_fruit_veg', 'f_fish', 'f_meat_red', 'f_poultry']\n",
    "grocery_data['healthy_food'] = grocery_data[healthy_food_cols].sum(axis=1)\n",
    "\n",
    "print(\"Borough with most healthy food consumption: \", grocery_data[grocery_data['healthy_food'] == grocery_data['healthy_food'].max()]['NAME'].values[0])\n",
    "print(\"Borough with least healthy food consumption: \", grocery_data[grocery_data['healthy_food'] == grocery_data['healthy_food'].min()]['NAME'].values[0])"
   ]
  },
  {
   "cell_type": "markdown",
   "metadata": {},
   "source": [
    "<mark>**Something interesting to note is that Kensignton and Chelsea have the highest consumption of foods that are considered healthy and lowest consumption of foods that are considered unhealthy. The same, but opposite, for Sutton which have high junk food consumption and low healthy food consumption**</mark>"
   ]
  },
  {
   "cell_type": "markdown",
   "metadata": {},
   "source": [
    "### **Purchase Behaviours**"
   ]
  },
  {
   "cell_type": "markdown",
   "metadata": {},
   "source": [
    "This group includes metrics on the number of transactions, frequency of purchases, and consumer participation rates. The diversity of product weights and transaction days highlights purchasing patterns, which can be useful for market analysis and public health studies."
   ]
  },
  {
   "cell_type": "markdown",
   "metadata": {},
   "source": [
    "***Lets try to find some insights for the Purchase Behaviours***"
   ]
  },
  {
   "cell_type": "code",
   "execution_count": 198,
   "metadata": {},
   "outputs": [
    {
     "name": "stdout",
     "output_type": "stream",
     "text": [
      "Borough with most transactions:  Barnet\n",
      "Borough with least transactions:  City of London\n"
     ]
    }
   ],
   "source": [
    "# finding boroughs with the most and least transactions\n",
    "print(\"Borough with most transactions: \", grocery_data[grocery_data['num_transactions'] == grocery_data['num_transactions'].max()]['NAME'].values[0])\n",
    "print(\"Borough with least transactions: \", grocery_data[grocery_data['num_transactions'] == grocery_data['num_transactions'].min()]['NAME'].values[0])"
   ]
  },
  {
   "cell_type": "code",
   "execution_count": 199,
   "metadata": {},
   "outputs": [
    {
     "data": {
      "text/html": [
       "<div>\n",
       "<style scoped>\n",
       "    .dataframe tbody tr th:only-of-type {\n",
       "        vertical-align: middle;\n",
       "    }\n",
       "\n",
       "    .dataframe tbody tr th {\n",
       "        vertical-align: top;\n",
       "    }\n",
       "\n",
       "    .dataframe thead th {\n",
       "        text-align: right;\n",
       "    }\n",
       "</style>\n",
       "<table border=\"1\" class=\"dataframe\">\n",
       "  <thead>\n",
       "    <tr style=\"text-align: right;\">\n",
       "      <th></th>\n",
       "      <th>NAME</th>\n",
       "      <th>avg_transactions_per_day</th>\n",
       "    </tr>\n",
       "  </thead>\n",
       "  <tbody>\n",
       "    <tr>\n",
       "      <th>2</th>\n",
       "      <td>Barnet</td>\n",
       "      <td>158974.041096</td>\n",
       "    </tr>\n",
       "    <tr>\n",
       "      <th>9</th>\n",
       "      <td>Enfield</td>\n",
       "      <td>136756.597260</td>\n",
       "    </tr>\n",
       "    <tr>\n",
       "      <th>30</th>\n",
       "      <td>Waltham Forest</td>\n",
       "      <td>126876.578082</td>\n",
       "    </tr>\n",
       "    <tr>\n",
       "      <th>27</th>\n",
       "      <td>Southwark</td>\n",
       "      <td>111131.008219</td>\n",
       "    </tr>\n",
       "    <tr>\n",
       "      <th>21</th>\n",
       "      <td>Lambeth</td>\n",
       "      <td>91504.172603</td>\n",
       "    </tr>\n",
       "  </tbody>\n",
       "</table>\n",
       "</div>"
      ],
      "text/plain": [
       "              NAME  avg_transactions_per_day\n",
       "2           Barnet             158974.041096\n",
       "9          Enfield             136756.597260\n",
       "30  Waltham Forest             126876.578082\n",
       "27       Southwark             111131.008219\n",
       "21         Lambeth              91504.172603"
      ]
     },
     "execution_count": 199,
     "metadata": {},
     "output_type": "execute_result"
    }
   ],
   "source": [
    "# finding boroughs with the most transactions per day\n",
    "grocery_data['avg_transactions_per_day'] = grocery_data['num_transactions'] / grocery_data['transaction_days']\n",
    "grocery_data[['NAME', 'avg_transactions_per_day']].sort_values(by='avg_transactions_per_day', ascending=False).head()"
   ]
  },
  {
   "cell_type": "markdown",
   "metadata": {},
   "source": [
    "### **Demographic Information**"
   ]
  },
  {
   "cell_type": "markdown",
   "metadata": {},
   "source": [
    "Population statistics, including age distribution and gender, are given in the dataset and provide a broader context for understanding dietary and healthiness trends. The average age and population structure help correlate food consumption with demographic factors."
   ]
  },
  {
   "cell_type": "markdown",
   "metadata": {},
   "source": [
    "***Lets try to find some insights for the Demographic Information***"
   ]
  },
  {
   "cell_type": "code",
   "execution_count": 200,
   "metadata": {},
   "outputs": [
    {
     "name": "stdout",
     "output_type": "stream",
     "text": [
      "Boroughs with More Females than Males:\n",
      "           NAME  fem_ratio\n",
      "15    Havering   1.082585\n",
      "5      Bromley   1.081619\n",
      "3       Bexley   1.074982\n",
      "31  Wandsworth   1.072938\n",
      "7      Croydon   1.062180\n"
     ]
    }
   ],
   "source": [
    "# finding boroughs with more females than males\n",
    "grocery_data['fem_ratio'] = grocery_data['female'] / (grocery_data['male'])\n",
    "female_majority = grocery_data[['NAME', 'fem_ratio']].sort_values(by='fem_ratio', ascending=False).head(5)\n",
    "print(\"Boroughs with More Females than Males:\\n\", female_majority)"
   ]
  },
  {
   "cell_type": "code",
   "execution_count": 201,
   "metadata": {},
   "outputs": [
    {
     "data": {
      "text/html": [
       "<div>\n",
       "<style scoped>\n",
       "    .dataframe tbody tr th:only-of-type {\n",
       "        vertical-align: middle;\n",
       "    }\n",
       "\n",
       "    .dataframe tbody tr th {\n",
       "        vertical-align: top;\n",
       "    }\n",
       "\n",
       "    .dataframe thead th {\n",
       "        text-align: right;\n",
       "    }\n",
       "</style>\n",
       "<table border=\"1\" class=\"dataframe\">\n",
       "  <thead>\n",
       "    <tr style=\"text-align: right;\">\n",
       "      <th></th>\n",
       "      <th>NAME</th>\n",
       "      <th>avg_age</th>\n",
       "    </tr>\n",
       "  </thead>\n",
       "  <tbody>\n",
       "    <tr>\n",
       "      <th>29</th>\n",
       "      <td>Tower Hamlets</td>\n",
       "      <td>31.514726</td>\n",
       "    </tr>\n",
       "    <tr>\n",
       "      <th>24</th>\n",
       "      <td>Newham</td>\n",
       "      <td>32.038272</td>\n",
       "    </tr>\n",
       "    <tr>\n",
       "      <th>11</th>\n",
       "      <td>Hackney</td>\n",
       "      <td>32.973528</td>\n",
       "    </tr>\n",
       "    <tr>\n",
       "      <th>1</th>\n",
       "      <td>Barking and Dagenham</td>\n",
       "      <td>33.017321</td>\n",
       "    </tr>\n",
       "    <tr>\n",
       "      <th>27</th>\n",
       "      <td>Southwark</td>\n",
       "      <td>34.200656</td>\n",
       "    </tr>\n",
       "  </tbody>\n",
       "</table>\n",
       "</div>"
      ],
      "text/plain": [
       "                    NAME    avg_age\n",
       "29         Tower Hamlets  31.514726\n",
       "24                Newham  32.038272\n",
       "11               Hackney  32.973528\n",
       "1   Barking and Dagenham  33.017321\n",
       "27             Southwark  34.200656"
      ]
     },
     "execution_count": 201,
     "metadata": {},
     "output_type": "execute_result"
    }
   ],
   "source": [
    "# finding the boroughs with the lowest average ages\n",
    "grocery_data[['NAME', 'avg_age']].sort_values(by='avg_age', ascending=True).head()"
   ]
  },
  {
   "cell_type": "markdown",
   "metadata": {},
   "source": [
    "### **Geographic Information**"
   ]
  },
  {
   "cell_type": "markdown",
   "metadata": {},
   "source": [
    "Columns for the area size, population density, and customer representativeness are in the dataset and help us get further explainations for the borough shopping trends."
   ]
  },
  {
   "cell_type": "markdown",
   "metadata": {},
   "source": [
    "***Lets try to find some insights for the Geographic Information***"
   ]
  },
  {
   "cell_type": "code",
   "execution_count": 202,
   "metadata": {},
   "outputs": [
    {
     "name": "stdout",
     "output_type": "stream",
     "text": [
      "Most Densely Populated Boroughs:\n",
      "                       NAME  people_per_sq_km\n",
      "18               Islington      15268.926174\n",
      "29           Tower Hamlets      14877.367089\n",
      "11                 Hackney      14078.930818\n",
      "19  Kensington and Chelsea      13095.706028\n",
      "21                 Lambeth      11958.836689\n"
     ]
    }
   ],
   "source": [
    "# finding most densely populated areas\n",
    "dense_areas = grocery_data[['NAME', 'people_per_sq_km']].sort_values(by='people_per_sq_km', ascending=False).head(5)\n",
    "print(\"Most Densely Populated Boroughs:\\n\", dense_areas)"
   ]
  },
  {
   "cell_type": "code",
   "execution_count": 203,
   "metadata": {},
   "outputs": [
    {
     "name": "stdout",
     "output_type": "stream",
     "text": [
      "Boroughs with Highest Clubcard Representativeness:\n",
      "               NAME  representativeness_norm\n",
      "0   City of London                 1.000000\n",
      "14          Harrow                 0.747110\n",
      "2           Barnet                 0.720439\n",
      "30  Waltham Forest                 0.701978\n",
      "9          Enfield                 0.679551\n"
     ]
    }
   ],
   "source": [
    "# finding areas with highest Clubcard participation (better customer data)\n",
    "high_representativeness = grocery_data[['NAME', 'representativeness_norm']].sort_values(by='representativeness_norm', ascending=False).head(5)\n",
    "print(\"Boroughs with Highest Clubcard Representativeness:\\n\", high_representativeness)"
   ]
  },
  {
   "cell_type": "markdown",
   "metadata": {},
   "source": [
    "### **Limiations**"
   ]
  },
  {
   "cell_type": "markdown",
   "metadata": {},
   "source": [
    "- Incomplete Coverage of Food Purchases: The dataset does not include purchases from other supermarket chains, or small stores [3].\n",
    "- Excludes Non-Clubcard & Online Purchases: Information about Tesco customers who do not use a Clubcard or shop online are missing from the dataset [3].\n",
    "- No Data on Restaurant/Takeaway Food: The dataset does not account for food consumed outside the home, which forms a large part of the average persons diet [3].\n",
    "- Area Level Consumption: Nutritional values are based on an area-level average rather than individual-level consumption, limiting personal dietary insights [3].\n",
    "- Low Data Representation in Some Areas: Certain boroughs have less Tescos, making data unreliable for those locations [3].\n",
    "- The dataset is limited to the year 2015."
   ]
  },
  {
   "cell_type": "markdown",
   "metadata": {},
   "source": [
    "### Assumptions"
   ]
  },
  {
   "cell_type": "markdown",
   "metadata": {},
   "source": [
    "- The dataset assumes that the general shopping behavior for each of the boroughs is represented by the purchasing patterns of Tesco Clubcard owners.\n",
    "- The average product reflects actual dietary and health patterns.\n",
    "- All food categories are equally likely to be purchased.\n",
    "- The data collected is accurate."
   ]
  },
  {
   "cell_type": "markdown",
   "metadata": {},
   "source": [
    "### Biases"
   ]
  },
  {
   "cell_type": "markdown",
   "metadata": {},
   "source": [
    "- Self-Selection Bias: The dataset includes only Tesco Clubcard holders, meaning the sample is not random but self-selected [3].\n",
    "- Demographic & Socio-Economic Bias: The data does not fully represent the population in terms of age, income, or social background [3].\n",
    "- Geographic Bias: Some areas have higher Tesco store concentration (North London), leading to unequal data representation across boroughs [3].\n",
    "- Purchase Behavior Bias: The dataset only captures Tesco shopping habits, excluding preferences of people who primarily shop elsewhere [3]."
   ]
  },
  {
   "cell_type": "markdown",
   "metadata": {},
   "source": [
    "## Task 2: Visualise the Dataset\n",
    "In this task you will explore the dataset and use one or more appropriate visualisations to extract two\n",
    "useful insights from it. You are free to choose both the topics for exploration. The visualisations should\n",
    "conform with the best practice you studied in Semester 1. You are free to create programs and use any\n",
    "libraries or other tools to assist you in this task. You are also encouraged to make use of the skills you\n",
    "have developed in other units such as statistical methods or machine learning approaches where you\n",
    "consider these appropriate."
   ]
  },
  {
   "cell_type": "markdown",
   "metadata": {},
   "source": [
    "### Visualization 1: Healthiest boroughs in London.\n",
    "\n",
    "Foods that are higher in protein, fiber, vitamins, and minerals and lower in saturated fats, sugars, and sodium are considered nutrient-rich foods. These foods may also contain other bioactive substances that seem to have positive health impacts. Nutrient-rich foods are typically regarded as a component of a healthy diet because of their nutritional and bioactive makeup [4]."
   ]
  },
  {
   "cell_type": "markdown",
   "metadata": {},
   "source": [
    "## References\n",
    "\n",
    "1. Aiello, Luca Maria (2020). Area-level grocery purchases. figshare. Dataset. https://doi.org/10.6084/m9.figshare.7796666.v1\n",
    "\n",
    "2. Greater London Authority (GLA), (2014) 'Statistical GIS Boundary Files for London'. Available at: https://data.london.gov.uk/dataset/statistical-gis-boundary-files-london.\n",
    "\n",
    "3. Aiello, L.M., Quercia, D., Schifanella, R. et al. Tesco Grocery 1.0, a large-scale dataset of grocery purchases in London. Sci Data 7, 57 (2020). https://doi.org/10.1038/s41597-020-0397-7\n",
    "\n",
    "4. González-Palacios, S. and Fonollá, J., 2023. Advances in Nutrient-Rich Foods for a Healthy Diet. Foods, 12(15), p.2946."
   ]
  }
 ],
 "metadata": {
  "kernelspec": {
   "display_name": "Python 3",
   "language": "python",
   "name": "python3"
  },
  "language_info": {
   "codemirror_mode": {
    "name": "ipython",
    "version": 3
   },
   "file_extension": ".py",
   "mimetype": "text/x-python",
   "name": "python",
   "nbconvert_exporter": "python",
   "pygments_lexer": "ipython3",
   "version": "3.12.5"
  }
 },
 "nbformat": 4,
 "nbformat_minor": 2
}
